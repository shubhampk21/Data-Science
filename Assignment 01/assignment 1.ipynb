{
 "cells": [
  {
   "cell_type": "code",
   "execution_count": 1,
   "id": "8664fb9a",
   "metadata": {},
   "outputs": [],
   "source": [
    "import numpy as np\n",
    "import pandas as pd\n",
    "import statistics as st\n",
    "import scipy.stats\n",
    "import matplotlib.pyplot as plt\n",
    "%matplotlib inline\n",
    "import seaborn as sns"
   ]
  },
  {
   "cell_type": "markdown",
   "id": "cc10049f",
   "metadata": {},
   "source": [
    "#### Q7 Finding Calculate Mean, Median, Mode, Variance, Standard Deviation, Range & comment about the values / draw inferences, for the given dataset"
   ]
  },
  {
   "cell_type": "code",
   "execution_count": 2,
   "id": "10770e36",
   "metadata": {},
   "outputs": [
    {
     "data": {
      "text/html": [
       "<div>\n",
       "<style scoped>\n",
       "    .dataframe tbody tr th:only-of-type {\n",
       "        vertical-align: middle;\n",
       "    }\n",
       "\n",
       "    .dataframe tbody tr th {\n",
       "        vertical-align: top;\n",
       "    }\n",
       "\n",
       "    .dataframe thead th {\n",
       "        text-align: right;\n",
       "    }\n",
       "</style>\n",
       "<table border=\"1\" class=\"dataframe\">\n",
       "  <thead>\n",
       "    <tr style=\"text-align: right;\">\n",
       "      <th></th>\n",
       "      <th>Unnamed: 0</th>\n",
       "      <th>Points</th>\n",
       "      <th>Score</th>\n",
       "      <th>Weigh</th>\n",
       "    </tr>\n",
       "  </thead>\n",
       "  <tbody>\n",
       "    <tr>\n",
       "      <th>0</th>\n",
       "      <td>Mazda RX4</td>\n",
       "      <td>3.90</td>\n",
       "      <td>2.620</td>\n",
       "      <td>16.46</td>\n",
       "    </tr>\n",
       "    <tr>\n",
       "      <th>1</th>\n",
       "      <td>Mazda RX4 Wag</td>\n",
       "      <td>3.90</td>\n",
       "      <td>2.875</td>\n",
       "      <td>17.02</td>\n",
       "    </tr>\n",
       "    <tr>\n",
       "      <th>2</th>\n",
       "      <td>Datsun 710</td>\n",
       "      <td>3.85</td>\n",
       "      <td>2.320</td>\n",
       "      <td>18.61</td>\n",
       "    </tr>\n",
       "    <tr>\n",
       "      <th>3</th>\n",
       "      <td>Hornet 4 Drive</td>\n",
       "      <td>3.08</td>\n",
       "      <td>3.215</td>\n",
       "      <td>19.44</td>\n",
       "    </tr>\n",
       "    <tr>\n",
       "      <th>4</th>\n",
       "      <td>Hornet Sportabout</td>\n",
       "      <td>3.15</td>\n",
       "      <td>3.440</td>\n",
       "      <td>17.02</td>\n",
       "    </tr>\n",
       "  </tbody>\n",
       "</table>\n",
       "</div>"
      ],
      "text/plain": [
       "          Unnamed: 0  Points  Score  Weigh\n",
       "0          Mazda RX4    3.90  2.620  16.46\n",
       "1      Mazda RX4 Wag    3.90  2.875  17.02\n",
       "2         Datsun 710    3.85  2.320  18.61\n",
       "3     Hornet 4 Drive    3.08  3.215  19.44\n",
       "4  Hornet Sportabout    3.15  3.440  17.02"
      ]
     },
     "execution_count": 2,
     "metadata": {},
     "output_type": "execute_result"
    }
   ],
   "source": [
    "q7 = pd.read_csv(\"Q7.csv\")\n",
    "q7.head()"
   ]
  },
  {
   "cell_type": "code",
   "execution_count": 3,
   "id": "f49ae69d",
   "metadata": {},
   "outputs": [
    {
     "data": {
      "text/html": [
       "<div>\n",
       "<style scoped>\n",
       "    .dataframe tbody tr th:only-of-type {\n",
       "        vertical-align: middle;\n",
       "    }\n",
       "\n",
       "    .dataframe tbody tr th {\n",
       "        vertical-align: top;\n",
       "    }\n",
       "\n",
       "    .dataframe thead th {\n",
       "        text-align: right;\n",
       "    }\n",
       "</style>\n",
       "<table border=\"1\" class=\"dataframe\">\n",
       "  <thead>\n",
       "    <tr style=\"text-align: right;\">\n",
       "      <th></th>\n",
       "      <th>Points</th>\n",
       "      <th>Score</th>\n",
       "      <th>Weigh</th>\n",
       "    </tr>\n",
       "  </thead>\n",
       "  <tbody>\n",
       "    <tr>\n",
       "      <th>0</th>\n",
       "      <td>3.90</td>\n",
       "      <td>2.620</td>\n",
       "      <td>16.46</td>\n",
       "    </tr>\n",
       "    <tr>\n",
       "      <th>1</th>\n",
       "      <td>3.90</td>\n",
       "      <td>2.875</td>\n",
       "      <td>17.02</td>\n",
       "    </tr>\n",
       "    <tr>\n",
       "      <th>2</th>\n",
       "      <td>3.85</td>\n",
       "      <td>2.320</td>\n",
       "      <td>18.61</td>\n",
       "    </tr>\n",
       "    <tr>\n",
       "      <th>3</th>\n",
       "      <td>3.08</td>\n",
       "      <td>3.215</td>\n",
       "      <td>19.44</td>\n",
       "    </tr>\n",
       "    <tr>\n",
       "      <th>4</th>\n",
       "      <td>3.15</td>\n",
       "      <td>3.440</td>\n",
       "      <td>17.02</td>\n",
       "    </tr>\n",
       "  </tbody>\n",
       "</table>\n",
       "</div>"
      ],
      "text/plain": [
       "   Points  Score  Weigh\n",
       "0    3.90  2.620  16.46\n",
       "1    3.90  2.875  17.02\n",
       "2    3.85  2.320  18.61\n",
       "3    3.08  3.215  19.44\n",
       "4    3.15  3.440  17.02"
      ]
     },
     "execution_count": 3,
     "metadata": {},
     "output_type": "execute_result"
    }
   ],
   "source": [
    "q7=q7.iloc[:,1:]\n",
    "q7.head()"
   ]
  },
  {
   "cell_type": "code",
   "execution_count": 4,
   "id": "efc73b46",
   "metadata": {
    "scrolled": true
   },
   "outputs": [
    {
     "data": {
      "text/html": [
       "<div>\n",
       "<style scoped>\n",
       "    .dataframe tbody tr th:only-of-type {\n",
       "        vertical-align: middle;\n",
       "    }\n",
       "\n",
       "    .dataframe tbody tr th {\n",
       "        vertical-align: top;\n",
       "    }\n",
       "\n",
       "    .dataframe thead th {\n",
       "        text-align: right;\n",
       "    }\n",
       "</style>\n",
       "<table border=\"1\" class=\"dataframe\">\n",
       "  <thead>\n",
       "    <tr style=\"text-align: right;\">\n",
       "      <th></th>\n",
       "      <th>count</th>\n",
       "      <th>mean</th>\n",
       "      <th>std</th>\n",
       "      <th>min</th>\n",
       "      <th>25%</th>\n",
       "      <th>50%</th>\n",
       "      <th>75%</th>\n",
       "      <th>max</th>\n",
       "    </tr>\n",
       "  </thead>\n",
       "  <tbody>\n",
       "    <tr>\n",
       "      <th>Points</th>\n",
       "      <td>32.0</td>\n",
       "      <td>3.596563</td>\n",
       "      <td>0.534679</td>\n",
       "      <td>2.760</td>\n",
       "      <td>3.08000</td>\n",
       "      <td>3.695</td>\n",
       "      <td>3.92</td>\n",
       "      <td>4.930</td>\n",
       "    </tr>\n",
       "    <tr>\n",
       "      <th>Score</th>\n",
       "      <td>32.0</td>\n",
       "      <td>3.217250</td>\n",
       "      <td>0.978457</td>\n",
       "      <td>1.513</td>\n",
       "      <td>2.58125</td>\n",
       "      <td>3.325</td>\n",
       "      <td>3.61</td>\n",
       "      <td>5.424</td>\n",
       "    </tr>\n",
       "    <tr>\n",
       "      <th>Weigh</th>\n",
       "      <td>32.0</td>\n",
       "      <td>17.848750</td>\n",
       "      <td>1.786943</td>\n",
       "      <td>14.500</td>\n",
       "      <td>16.89250</td>\n",
       "      <td>17.710</td>\n",
       "      <td>18.90</td>\n",
       "      <td>22.900</td>\n",
       "    </tr>\n",
       "  </tbody>\n",
       "</table>\n",
       "</div>"
      ],
      "text/plain": [
       "        count       mean       std     min       25%     50%    75%     max\n",
       "Points   32.0   3.596563  0.534679   2.760   3.08000   3.695   3.92   4.930\n",
       "Score    32.0   3.217250  0.978457   1.513   2.58125   3.325   3.61   5.424\n",
       "Weigh    32.0  17.848750  1.786943  14.500  16.89250  17.710  18.90  22.900"
      ]
     },
     "execution_count": 4,
     "metadata": {},
     "output_type": "execute_result"
    }
   ],
   "source": [
    "Ans = q7.describe().T\n",
    "Ans"
   ]
  },
  {
   "cell_type": "code",
   "execution_count": 5,
   "id": "776cd928",
   "metadata": {
    "scrolled": true
   },
   "outputs": [
    {
     "data": {
      "text/html": [
       "<div>\n",
       "<style scoped>\n",
       "    .dataframe tbody tr th:only-of-type {\n",
       "        vertical-align: middle;\n",
       "    }\n",
       "\n",
       "    .dataframe tbody tr th {\n",
       "        vertical-align: top;\n",
       "    }\n",
       "\n",
       "    .dataframe thead th {\n",
       "        text-align: right;\n",
       "    }\n",
       "</style>\n",
       "<table border=\"1\" class=\"dataframe\">\n",
       "  <thead>\n",
       "    <tr style=\"text-align: right;\">\n",
       "      <th></th>\n",
       "      <th>Mean</th>\n",
       "      <th>Median</th>\n",
       "      <th>Mode</th>\n",
       "      <th>Variance</th>\n",
       "      <th>Standard Deviation</th>\n",
       "      <th>Range</th>\n",
       "    </tr>\n",
       "  </thead>\n",
       "  <tbody>\n",
       "    <tr>\n",
       "      <th>Points</th>\n",
       "      <td>3.596563</td>\n",
       "      <td>3.695</td>\n",
       "      <td>3.92</td>\n",
       "      <td>0.285881</td>\n",
       "      <td>0.534679</td>\n",
       "      <td>2.170</td>\n",
       "    </tr>\n",
       "    <tr>\n",
       "      <th>Score</th>\n",
       "      <td>3.217250</td>\n",
       "      <td>3.325</td>\n",
       "      <td>3.44</td>\n",
       "      <td>0.957379</td>\n",
       "      <td>0.978457</td>\n",
       "      <td>3.911</td>\n",
       "    </tr>\n",
       "    <tr>\n",
       "      <th>Weigh</th>\n",
       "      <td>17.848750</td>\n",
       "      <td>17.710</td>\n",
       "      <td>17.02</td>\n",
       "      <td>3.193166</td>\n",
       "      <td>1.786943</td>\n",
       "      <td>8.400</td>\n",
       "    </tr>\n",
       "  </tbody>\n",
       "</table>\n",
       "</div>"
      ],
      "text/plain": [
       "             Mean  Median   Mode  Variance  Standard Deviation  Range\n",
       "Points   3.596563   3.695   3.92  0.285881            0.534679  2.170\n",
       "Score    3.217250   3.325   3.44  0.957379            0.978457  3.911\n",
       "Weigh   17.848750  17.710  17.02  3.193166            1.786943  8.400"
      ]
     },
     "execution_count": 5,
     "metadata": {},
     "output_type": "execute_result"
    }
   ],
   "source": [
    "Q7_Ans = pd.DataFrame({'Mean':Ans['mean'],'Median':Ans['50%'],\n",
    "                    'Mode':[st.mode(q7['Points']),st.mode(q7['Score']),st.mode(q7['Weigh'])],\n",
    "                    'Variance':q7.var(),'Standard Deviation':q7.std(),'Range':Ans['max']-Ans['min']})\n",
    "Q7_Ans"
   ]
  },
  {
   "cell_type": "markdown",
   "id": "4a2e88d7",
   "metadata": {},
   "source": [
    "#### Inferences on final answer\n",
    "##### Points\n",
    "- Mean and median are close to each other. so the data is nearly normaly distributed.\n",
    "- Mean ~ Median, so, no skewness present in the data.\n",
    "##### Score\n",
    "- Mean and median are close toeach other, so the data is nearlly normally distrbuted.\n",
    "- Mean ~ Median, so, no skewness present in the data.\n",
    "##### Weigh\n",
    "- Mean and median are very close to each other,therefore the data is normally distributed.\n",
    "- Mean ~ Median, so, no skewness present in the data."
   ]
  },
  {
   "cell_type": "markdown",
   "id": "acd6cc2d",
   "metadata": {},
   "source": [
    "#### Q9 Calculate Skewness, Kurtosis & draw inferences on the following data"
   ]
  },
  {
   "cell_type": "code",
   "execution_count": 6,
   "id": "f187f352",
   "metadata": {},
   "outputs": [
    {
     "data": {
      "text/html": [
       "<div>\n",
       "<style scoped>\n",
       "    .dataframe tbody tr th:only-of-type {\n",
       "        vertical-align: middle;\n",
       "    }\n",
       "\n",
       "    .dataframe tbody tr th {\n",
       "        vertical-align: top;\n",
       "    }\n",
       "\n",
       "    .dataframe thead th {\n",
       "        text-align: right;\n",
       "    }\n",
       "</style>\n",
       "<table border=\"1\" class=\"dataframe\">\n",
       "  <thead>\n",
       "    <tr style=\"text-align: right;\">\n",
       "      <th></th>\n",
       "      <th>speed</th>\n",
       "      <th>dist</th>\n",
       "    </tr>\n",
       "    <tr>\n",
       "      <th>Index</th>\n",
       "      <th></th>\n",
       "      <th></th>\n",
       "    </tr>\n",
       "  </thead>\n",
       "  <tbody>\n",
       "    <tr>\n",
       "      <th>1</th>\n",
       "      <td>4</td>\n",
       "      <td>2</td>\n",
       "    </tr>\n",
       "    <tr>\n",
       "      <th>2</th>\n",
       "      <td>4</td>\n",
       "      <td>10</td>\n",
       "    </tr>\n",
       "    <tr>\n",
       "      <th>3</th>\n",
       "      <td>7</td>\n",
       "      <td>4</td>\n",
       "    </tr>\n",
       "    <tr>\n",
       "      <th>4</th>\n",
       "      <td>7</td>\n",
       "      <td>22</td>\n",
       "    </tr>\n",
       "    <tr>\n",
       "      <th>5</th>\n",
       "      <td>8</td>\n",
       "      <td>16</td>\n",
       "    </tr>\n",
       "  </tbody>\n",
       "</table>\n",
       "</div>"
      ],
      "text/plain": [
       "       speed  dist\n",
       "Index             \n",
       "1          4     2\n",
       "2          4    10\n",
       "3          7     4\n",
       "4          7    22\n",
       "5          8    16"
      ]
     },
     "execution_count": 6,
     "metadata": {},
     "output_type": "execute_result"
    }
   ],
   "source": [
    "# 1.Car speed & distance\n",
    "q9_a = pd.read_csv('Q9_a.csv',index_col='Index')\n",
    "q9_a.head()"
   ]
  },
  {
   "cell_type": "code",
   "execution_count": 7,
   "id": "446077dc",
   "metadata": {},
   "outputs": [
    {
     "name": "stdout",
     "output_type": "stream",
     "text": [
      "Skewness = -0.11750986144663393\n",
      "Kurtosis = -0.5089944204057617\n"
     ]
    }
   ],
   "source": [
    "print(\"Skewness =\",q9_a['speed'].skew())\n",
    "print(\"Kurtosis =\",q9_a['speed'].kurtosis())"
   ]
  },
  {
   "cell_type": "markdown",
   "id": "e9e5023a",
   "metadata": {},
   "source": [
    "###### Inferences on speed column\n",
    "- Speed column is negatively/left skewed which means most of the data points of speed are above the mean value. Which also suggests median of the data is greater than mean.\n",
    "- Value of skewness in -0.11 which is considered negligible.\n",
    "- The data is platykurtic which means it has lighter tails than normal distribution."
   ]
  },
  {
   "cell_type": "code",
   "execution_count": 8,
   "id": "41027deb",
   "metadata": {},
   "outputs": [
    {
     "name": "stdout",
     "output_type": "stream",
     "text": [
      "Skewness = 0.8068949601674215\n",
      "Kurtosis = 0.4050525816795765\n"
     ]
    }
   ],
   "source": [
    "print(\"Skewness =\",q9_a['dist'].skew())\n",
    "print(\"Kurtosis =\",q9_a['dist'].kurtosis())"
   ]
  },
  {
   "cell_type": "markdown",
   "id": "347e0fa8",
   "metadata": {},
   "source": [
    "###### Inferences on dist column\n",
    "- Dist column is positively skewed i.e. most of the data points of dist in below the mean value. And mean is greater than the median.\n",
    "- hValue of skewness is 0.8 which is pretty high\n",
    "- The data is leptokurtic which implies it has heavier tails than normal distribution."
   ]
  },
  {
   "cell_type": "code",
   "execution_count": 9,
   "id": "a38c767e",
   "metadata": {},
   "outputs": [
    {
     "data": {
      "text/html": [
       "<div>\n",
       "<style scoped>\n",
       "    .dataframe tbody tr th:only-of-type {\n",
       "        vertical-align: middle;\n",
       "    }\n",
       "\n",
       "    .dataframe tbody tr th {\n",
       "        vertical-align: top;\n",
       "    }\n",
       "\n",
       "    .dataframe thead th {\n",
       "        text-align: right;\n",
       "    }\n",
       "</style>\n",
       "<table border=\"1\" class=\"dataframe\">\n",
       "  <thead>\n",
       "    <tr style=\"text-align: right;\">\n",
       "      <th></th>\n",
       "      <th>SP</th>\n",
       "      <th>WT</th>\n",
       "    </tr>\n",
       "  </thead>\n",
       "  <tbody>\n",
       "    <tr>\n",
       "      <th>0</th>\n",
       "      <td>104.185353</td>\n",
       "      <td>28.762059</td>\n",
       "    </tr>\n",
       "    <tr>\n",
       "      <th>1</th>\n",
       "      <td>105.461264</td>\n",
       "      <td>30.466833</td>\n",
       "    </tr>\n",
       "    <tr>\n",
       "      <th>2</th>\n",
       "      <td>105.461264</td>\n",
       "      <td>30.193597</td>\n",
       "    </tr>\n",
       "    <tr>\n",
       "      <th>3</th>\n",
       "      <td>113.461264</td>\n",
       "      <td>30.632114</td>\n",
       "    </tr>\n",
       "    <tr>\n",
       "      <th>4</th>\n",
       "      <td>104.461264</td>\n",
       "      <td>29.889149</td>\n",
       "    </tr>\n",
       "  </tbody>\n",
       "</table>\n",
       "</div>"
      ],
      "text/plain": [
       "           SP         WT\n",
       "0  104.185353  28.762059\n",
       "1  105.461264  30.466833\n",
       "2  105.461264  30.193597\n",
       "3  113.461264  30.632114\n",
       "4  104.461264  29.889149"
      ]
     },
     "execution_count": 9,
     "metadata": {},
     "output_type": "execute_result"
    }
   ],
   "source": [
    "q9_b = pd.read_csv('Q9_b.csv')\n",
    "q9_b = q9_b.iloc[:,1:]\n",
    "q9_b.head()"
   ]
  },
  {
   "cell_type": "code",
   "execution_count": 10,
   "id": "48f29802",
   "metadata": {},
   "outputs": [
    {
     "name": "stdout",
     "output_type": "stream",
     "text": [
      "Skewness = 1.6114501961773586\n",
      "Kurtosis = 2.9773289437871835\n"
     ]
    }
   ],
   "source": [
    "print(\"Skewness =\",q9_b['SP'].skew())\n",
    "print(\"Kurtosis =\",q9_b['SP'].kurtosis())"
   ]
  },
  {
   "cell_type": "markdown",
   "id": "bee926cb",
   "metadata": {},
   "source": [
    "##### Inferences on SP column\n",
    "- The data has a positive or right skewness.\n",
    "- Value of skewness is 1.6 which is pretty high.\n",
    "- The value of kurtosis that tha data is leptokurtic i.e. the tails are heavier compared to normal distribution."
   ]
  },
  {
   "cell_type": "code",
   "execution_count": 11,
   "id": "ca9b29c6",
   "metadata": {},
   "outputs": [
    {
     "name": "stdout",
     "output_type": "stream",
     "text": [
      "Skewness = -0.6147533255357768\n",
      "Kurtosis = 0.9502914910300326\n"
     ]
    }
   ],
   "source": [
    "print(\"Skewness =\",q9_b['WT'].skew())\n",
    "print(\"Kurtosis =\",q9_b['WT'].kurtosis())"
   ]
  },
  {
   "cell_type": "markdown",
   "id": "aac27256",
   "metadata": {},
   "source": [
    "##### Inferences on WT column\n",
    "- The WT data is left or neagtively skewed.\n",
    "- Value of skewness is -0.61 i.e. the data is moderately skewed.\n",
    "- The data is platykurtic or has lighter tails than normal distribution."
   ]
  },
  {
   "cell_type": "markdown",
   "id": "7531cf62",
   "metadata": {},
   "source": [
    "#### Q11 Suppose we want to estimate the average weight of an adult male in    Mexico. We draw a random sample of 2,000 men from a population of 3,000,000 men and weigh them. We find that the average person in our sample weighs 200 pounds, and the standard deviation of the sample is 30 pounds. Calculate 94%,98%,96% confidence interval?"
   ]
  },
  {
   "cell_type": "markdown",
   "id": "344bb5c6",
   "metadata": {},
   "source": [
    "- Data Given\n",
    "- sample size = n = 2000\n",
    "- sample mean = 200 pounds\n",
    "- sample standard deviation = 30 pounds\n",
    "- we need to use t test because only sample statistics is available"
   ]
  },
  {
   "cell_type": "code",
   "execution_count": 12,
   "id": "12a1cdb9",
   "metadata": {},
   "outputs": [
    {
     "name": "stdout",
     "output_type": "stream",
     "text": [
      "1.8818614764780113\n",
      "Interval for 94 % confidence is { 198.74 - 201.26 } pounds\n"
     ]
    }
   ],
   "source": [
    "# 1) 94% confidence interval\n",
    "# range = (mean - (t(0.94,(2000-1)*30)/sqrt(2000))\n",
    "# let's calculate t value first\n",
    "T94 = scipy.stats.t.ppf(0.97,1999)\n",
    "print(T94)\n",
    "print(\"Interval for 94 % confidence is {\",round(200-(T94*30)/st.sqrt(2000),2),\"-\",\n",
    "      round(200+(T94*30)/st.sqrt(2000),2),\"} pounds\")"
   ]
  },
  {
   "cell_type": "code",
   "execution_count": 13,
   "id": "654f7dd2",
   "metadata": {},
   "outputs": [
    {
     "name": "stdout",
     "output_type": "stream",
     "text": [
      "2.328214776106972\n",
      "Interval for 98 % confidence is { 198.44 - 201.56 } pounds\n"
     ]
    }
   ],
   "source": [
    "# 2) 98% confidence interval\n",
    "# range = (mean - (t(0.98,(2000-1)*30)/sqrt(2000))\n",
    "# let's calculate t value first\n",
    "T98 = scipy.stats.t.ppf(0.99,1999)\n",
    "print(T98)\n",
    "print(\"Interval for 98 % confidence is {\",round(200-(T98*30)/st.sqrt(2000),2),\"-\",\n",
    "      round(200+(T98*30)/st.sqrt(2000),2),\"} pounds\")"
   ]
  },
  {
   "cell_type": "code",
   "execution_count": 14,
   "id": "bffdf79e",
   "metadata": {},
   "outputs": [
    {
     "name": "stdout",
     "output_type": "stream",
     "text": [
      "2.055089962825778\n",
      "Interval for 96 % confidence is { 198.62 - 201.38 } pounds\n"
     ]
    }
   ],
   "source": [
    "# 3) 96% confidence interval\n",
    "# range = (mean - (t(0.96,(2000-1)*30)/sqrt(2000))\n",
    "# let's calculate t value first\n",
    "T96 = scipy.stats.t.ppf(0.98,1999)\n",
    "print(T96)\n",
    "print(\"Interval for 96 % confidence is {\",round(200-(T96*30)/st.sqrt(2000),2),\"-\",\n",
    "      round(200+(T96*30)/st.sqrt(2000),2),\"} pounds\")"
   ]
  },
  {
   "cell_type": "markdown",
   "id": "0068bbf3",
   "metadata": {},
   "source": [
    "#### Q12 Below are the scores obtained by a student in tests \n",
    "- 34,36,36,38,38,39,39,40,40,41,41,41,41,42,42,45,49,56\n",
    "1) Find mean, median, variance, standard deviation.\n",
    "2) What can we say about the student marks? "
   ]
  },
  {
   "cell_type": "code",
   "execution_count": 15,
   "id": "6f5c097c",
   "metadata": {},
   "outputs": [],
   "source": [
    "q12=np.array([34,36,36,38,38,39,39,40,40,41,41,41,41,42,42,45,49,56])"
   ]
  },
  {
   "cell_type": "code",
   "execution_count": 16,
   "id": "659cbd2b",
   "metadata": {},
   "outputs": [
    {
     "data": {
      "text/plain": [
       "{'Mean': 41.0,\n",
       " 'Median': 40.5,\n",
       " 'Variance': 24.11111111111111,\n",
       " 'Standard Deviation': 4.910306620885412}"
      ]
     },
     "execution_count": 16,
     "metadata": {},
     "output_type": "execute_result"
    }
   ],
   "source": [
    "Ans12 ={'Mean':q12.mean(),'Median':np.median(q12),\n",
    "        'Variance':q12.var(),'Standard Deviation':q12.std()}\n",
    "Ans12"
   ]
  },
  {
   "cell_type": "markdown",
   "id": "6d3e3c78",
   "metadata": {},
   "source": [
    "- From above values we can say that that marks are normally distributed.\n",
    "- Also the range of the marks is not that large, Hence there is no big difference between top scorer and least scorer."
   ]
  },
  {
   "cell_type": "markdown",
   "id": "e9c5f19f",
   "metadata": {},
   "source": [
    "#### Q20 Calculate probability from the given dataset for the below cases\n",
    "\n",
    "- Data _set: Cars.csv\n",
    "- Calculate the probability of MPG of Cars for the below cases.\n",
    "-        MPG <- Cars,MPG\n",
    "- a.\tP(MPG>38)\n",
    "- b.\tP(MPG<40)\n",
    "- c.\tP (20<MPG<50)"
   ]
  },
  {
   "cell_type": "code",
   "execution_count": 17,
   "id": "f788634a",
   "metadata": {},
   "outputs": [
    {
     "data": {
      "text/html": [
       "<div>\n",
       "<style scoped>\n",
       "    .dataframe tbody tr th:only-of-type {\n",
       "        vertical-align: middle;\n",
       "    }\n",
       "\n",
       "    .dataframe tbody tr th {\n",
       "        vertical-align: top;\n",
       "    }\n",
       "\n",
       "    .dataframe thead th {\n",
       "        text-align: right;\n",
       "    }\n",
       "</style>\n",
       "<table border=\"1\" class=\"dataframe\">\n",
       "  <thead>\n",
       "    <tr style=\"text-align: right;\">\n",
       "      <th></th>\n",
       "      <th>HP</th>\n",
       "      <th>MPG</th>\n",
       "      <th>VOL</th>\n",
       "      <th>SP</th>\n",
       "      <th>WT</th>\n",
       "    </tr>\n",
       "  </thead>\n",
       "  <tbody>\n",
       "    <tr>\n",
       "      <th>0</th>\n",
       "      <td>49</td>\n",
       "      <td>53.700681</td>\n",
       "      <td>89</td>\n",
       "      <td>104.185353</td>\n",
       "      <td>28.762059</td>\n",
       "    </tr>\n",
       "    <tr>\n",
       "      <th>1</th>\n",
       "      <td>55</td>\n",
       "      <td>50.013401</td>\n",
       "      <td>92</td>\n",
       "      <td>105.461264</td>\n",
       "      <td>30.466833</td>\n",
       "    </tr>\n",
       "    <tr>\n",
       "      <th>2</th>\n",
       "      <td>55</td>\n",
       "      <td>50.013401</td>\n",
       "      <td>92</td>\n",
       "      <td>105.461264</td>\n",
       "      <td>30.193597</td>\n",
       "    </tr>\n",
       "    <tr>\n",
       "      <th>3</th>\n",
       "      <td>70</td>\n",
       "      <td>45.696322</td>\n",
       "      <td>92</td>\n",
       "      <td>113.461264</td>\n",
       "      <td>30.632114</td>\n",
       "    </tr>\n",
       "    <tr>\n",
       "      <th>4</th>\n",
       "      <td>53</td>\n",
       "      <td>50.504232</td>\n",
       "      <td>92</td>\n",
       "      <td>104.461264</td>\n",
       "      <td>29.889149</td>\n",
       "    </tr>\n",
       "  </tbody>\n",
       "</table>\n",
       "</div>"
      ],
      "text/plain": [
       "   HP        MPG  VOL          SP         WT\n",
       "0  49  53.700681   89  104.185353  28.762059\n",
       "1  55  50.013401   92  105.461264  30.466833\n",
       "2  55  50.013401   92  105.461264  30.193597\n",
       "3  70  45.696322   92  113.461264  30.632114\n",
       "4  53  50.504232   92  104.461264  29.889149"
      ]
     },
     "execution_count": 17,
     "metadata": {},
     "output_type": "execute_result"
    }
   ],
   "source": [
    "Q20 = pd.read_csv('Cars.csv')\n",
    "Q20.head()"
   ]
  },
  {
   "cell_type": "code",
   "execution_count": 18,
   "id": "11f5cd1c",
   "metadata": {},
   "outputs": [
    {
     "name": "stdout",
     "output_type": "stream",
     "text": [
      "Probability of MPG > 38 = 0.4074074074074074\n"
     ]
    }
   ],
   "source": [
    "#a P(MPG>38)\n",
    "print(\"Probability of MPG > 38 =\",len(Q20[Q20['MPG']>38])/len(Q20))"
   ]
  },
  {
   "cell_type": "code",
   "execution_count": 19,
   "id": "bffc6505",
   "metadata": {},
   "outputs": [
    {
     "name": "stdout",
     "output_type": "stream",
     "text": [
      "Probability of MPG < 40 = 0.7530864197530864\n"
     ]
    }
   ],
   "source": [
    "#b P(MPG<40)\n",
    "print(\"Probability of MPG < 40 =\",len(Q20[Q20['MPG']<40])/len(Q20))"
   ]
  },
  {
   "cell_type": "code",
   "execution_count": 20,
   "id": "005addd9",
   "metadata": {},
   "outputs": [
    {
     "name": "stdout",
     "output_type": "stream",
     "text": [
      "Probability of 20 < MPG < 50 = 0.8518518518518519\n"
     ]
    }
   ],
   "source": [
    "#c P(20<MPG<50)\n",
    "print(\"Probability of 20 < MPG < 50 =\",len(Q20[(Q20['MPG']>20)&(Q20['MPG']<50)])/len(Q20))"
   ]
  },
  {
   "cell_type": "markdown",
   "id": "b718727d",
   "metadata": {},
   "source": [
    "#### Q21 Check whether the data follows normal distribution\n",
    "- a)\tCheck whether the MPG of Cars follows Normal Distribution \n",
    "         , Dataset: Cars.csv\n",
    "- b)\tCheck Whether the Adipose Tissue (AT) and Waist Circumference(Waist)  from wc-at data set follows Normal Distribution \n",
    "       , Dataset: wc-at.csv"
   ]
  },
  {
   "cell_type": "code",
   "execution_count": 21,
   "id": "ecb0aebe",
   "metadata": {},
   "outputs": [
    {
     "data": {
      "text/html": [
       "<div>\n",
       "<style scoped>\n",
       "    .dataframe tbody tr th:only-of-type {\n",
       "        vertical-align: middle;\n",
       "    }\n",
       "\n",
       "    .dataframe tbody tr th {\n",
       "        vertical-align: top;\n",
       "    }\n",
       "\n",
       "    .dataframe thead th {\n",
       "        text-align: right;\n",
       "    }\n",
       "</style>\n",
       "<table border=\"1\" class=\"dataframe\">\n",
       "  <thead>\n",
       "    <tr style=\"text-align: right;\">\n",
       "      <th></th>\n",
       "      <th>HP</th>\n",
       "      <th>MPG</th>\n",
       "      <th>VOL</th>\n",
       "      <th>SP</th>\n",
       "      <th>WT</th>\n",
       "    </tr>\n",
       "  </thead>\n",
       "  <tbody>\n",
       "    <tr>\n",
       "      <th>0</th>\n",
       "      <td>49</td>\n",
       "      <td>53.700681</td>\n",
       "      <td>89</td>\n",
       "      <td>104.185353</td>\n",
       "      <td>28.762059</td>\n",
       "    </tr>\n",
       "    <tr>\n",
       "      <th>1</th>\n",
       "      <td>55</td>\n",
       "      <td>50.013401</td>\n",
       "      <td>92</td>\n",
       "      <td>105.461264</td>\n",
       "      <td>30.466833</td>\n",
       "    </tr>\n",
       "    <tr>\n",
       "      <th>2</th>\n",
       "      <td>55</td>\n",
       "      <td>50.013401</td>\n",
       "      <td>92</td>\n",
       "      <td>105.461264</td>\n",
       "      <td>30.193597</td>\n",
       "    </tr>\n",
       "    <tr>\n",
       "      <th>3</th>\n",
       "      <td>70</td>\n",
       "      <td>45.696322</td>\n",
       "      <td>92</td>\n",
       "      <td>113.461264</td>\n",
       "      <td>30.632114</td>\n",
       "    </tr>\n",
       "    <tr>\n",
       "      <th>4</th>\n",
       "      <td>53</td>\n",
       "      <td>50.504232</td>\n",
       "      <td>92</td>\n",
       "      <td>104.461264</td>\n",
       "      <td>29.889149</td>\n",
       "    </tr>\n",
       "  </tbody>\n",
       "</table>\n",
       "</div>"
      ],
      "text/plain": [
       "   HP        MPG  VOL          SP         WT\n",
       "0  49  53.700681   89  104.185353  28.762059\n",
       "1  55  50.013401   92  105.461264  30.466833\n",
       "2  55  50.013401   92  105.461264  30.193597\n",
       "3  70  45.696322   92  113.461264  30.632114\n",
       "4  53  50.504232   92  104.461264  29.889149"
      ]
     },
     "execution_count": 21,
     "metadata": {},
     "output_type": "execute_result"
    }
   ],
   "source": [
    "q21_a = pd.read_csv('Cars.csv')\n",
    "q21_a.head()"
   ]
  },
  {
   "cell_type": "code",
   "execution_count": 22,
   "id": "5566728e",
   "metadata": {},
   "outputs": [
    {
     "data": {
      "text/plain": [
       "-0.17794674747025727"
      ]
     },
     "execution_count": 22,
     "metadata": {},
     "output_type": "execute_result"
    }
   ],
   "source": [
    "q21_a['MPG'].skew()"
   ]
  },
  {
   "cell_type": "code",
   "execution_count": 23,
   "id": "2a2becaa",
   "metadata": {
    "scrolled": false
   },
   "outputs": [
    {
     "data": {
      "text/plain": [
       "Text(0, 0.5, 'Frequency')"
      ]
     },
     "execution_count": 23,
     "metadata": {},
     "output_type": "execute_result"
    },
    {
     "data": {
      "image/png": "[encoded data removed]",
      "text/plain": [
       "<Figure size 640x480 with 1 Axes>"
      ]
     },
     "metadata": {},
     "output_type": "display_data"
    }
   ],
   "source": [
    "sns.kdeplot(q21_a['MPG'])\n",
    "plt.xlabel('MPG')\n",
    "plt.ylabel('Frequency')"
   ]
  },
  {
   "cell_type": "markdown",
   "id": "5dfc31b2",
   "metadata": {},
   "source": [
    "- MPG data has a small value of skewness which suggests a nearly normal distribution. As we can see in kde plot, the distribution is not symmetric. So, the data is close to normal distribution."
   ]
  },
  {
   "cell_type": "code",
   "execution_count": 24,
   "id": "5e168a28",
   "metadata": {
    "scrolled": false
   },
   "outputs": [
    {
     "data": {
      "text/html": [
       "<div>\n",
       "<style scoped>\n",
       "    .dataframe tbody tr th:only-of-type {\n",
       "        vertical-align: middle;\n",
       "    }\n",
       "\n",
       "    .dataframe tbody tr th {\n",
       "        vertical-align: top;\n",
       "    }\n",
       "\n",
       "    .dataframe thead th {\n",
       "        text-align: right;\n",
       "    }\n",
       "</style>\n",
       "<table border=\"1\" class=\"dataframe\">\n",
       "  <thead>\n",
       "    <tr style=\"text-align: right;\">\n",
       "      <th></th>\n",
       "      <th>Waist</th>\n",
       "      <th>AT</th>\n",
       "    </tr>\n",
       "  </thead>\n",
       "  <tbody>\n",
       "    <tr>\n",
       "      <th>0</th>\n",
       "      <td>74.75</td>\n",
       "      <td>25.72</td>\n",
       "    </tr>\n",
       "    <tr>\n",
       "      <th>1</th>\n",
       "      <td>72.60</td>\n",
       "      <td>25.89</td>\n",
       "    </tr>\n",
       "    <tr>\n",
       "      <th>2</th>\n",
       "      <td>81.80</td>\n",
       "      <td>42.60</td>\n",
       "    </tr>\n",
       "    <tr>\n",
       "      <th>3</th>\n",
       "      <td>83.95</td>\n",
       "      <td>42.80</td>\n",
       "    </tr>\n",
       "    <tr>\n",
       "      <th>4</th>\n",
       "      <td>74.65</td>\n",
       "      <td>29.84</td>\n",
       "    </tr>\n",
       "  </tbody>\n",
       "</table>\n",
       "</div>"
      ],
      "text/plain": [
       "   Waist     AT\n",
       "0  74.75  25.72\n",
       "1  72.60  25.89\n",
       "2  81.80  42.60\n",
       "3  83.95  42.80\n",
       "4  74.65  29.84"
      ]
     },
     "execution_count": 24,
     "metadata": {},
     "output_type": "execute_result"
    }
   ],
   "source": [
    "q21_b = pd.read_csv('wc-at.csv')\n",
    "q21_b.head()"
   ]
  },
  {
   "cell_type": "code",
   "execution_count": 25,
   "id": "db3cfcb4",
   "metadata": {},
   "outputs": [
    {
     "name": "stdout",
     "output_type": "stream",
     "text": [
      "0.1340560824786468\n",
      "0.584869324127853\n"
     ]
    }
   ],
   "source": [
    "print(q21_b['Waist'].skew())\n",
    "print(q21_b['AT'].skew())"
   ]
  },
  {
   "cell_type": "code",
   "execution_count": 26,
   "id": "569644c1",
   "metadata": {
    "scrolled": false
   },
   "outputs": [
    {
     "data": {
      "image/png": "[encoded data removed]",
      "text/plain": [
       "<Figure size 640x480 with 2 Axes>"
      ]
     },
     "metadata": {},
     "output_type": "display_data"
    }
   ],
   "source": [
    "plt.subplot(2,1,1)\n",
    "sns.kdeplot(q21_b['Waist'])\n",
    "plt.xlabel('Waist')\n",
    "plt.ylabel('Frequency')\n",
    "\n",
    "plt.subplot(2,1,2)\n",
    "sns.kdeplot(q21_b['AT'])\n",
    "plt.xlabel('AT')\n",
    "plt.ylabel('Frequency')\n",
    "plt.tight_layout()\n",
    "plt.show()"
   ]
  },
  {
   "cell_type": "markdown",
   "id": "68b09f25",
   "metadata": {},
   "source": [
    "- kde plots and values of skewness clearly suggest that datas of Waist Circumference (WC) and Adipose Tissue (AT) are not normally distributed."
   ]
  },
  {
   "cell_type": "markdown",
   "id": "96052e7f",
   "metadata": {},
   "source": [
    "#### Q22 Calculate the Z scores of  90% confidence interval,94% confidence interval, 60% confidence interval"
   ]
  },
  {
   "cell_type": "code",
   "execution_count": 27,
   "id": "10e3f069",
   "metadata": {},
   "outputs": [
    {
     "name": "stdout",
     "output_type": "stream",
     "text": [
      "Z score for 90% CI is 1.6448536269514722\n"
     ]
    }
   ],
   "source": [
    "# For calculating Z scores we will use scipy.stats.norm.ppf() function.\n",
    "#1) 90% CI\n",
    "print(\"Z score for 90% CI is\",scipy.stats.norm.ppf(0.95))"
   ]
  },
  {
   "cell_type": "code",
   "execution_count": 28,
   "id": "177dac47",
   "metadata": {},
   "outputs": [
    {
     "name": "stdout",
     "output_type": "stream",
     "text": [
      "Z score for 94% CI is 1.8807936081512509\n"
     ]
    }
   ],
   "source": [
    "# 2) 94% CI\n",
    "print(\"Z score for 94% CI is\",scipy.stats.norm.ppf(0.97))"
   ]
  },
  {
   "cell_type": "code",
   "execution_count": 29,
   "id": "4f796c19",
   "metadata": {},
   "outputs": [
    {
     "name": "stdout",
     "output_type": "stream",
     "text": [
      "Z score for 60% CI is 0.8416212335729143\n"
     ]
    }
   ],
   "source": [
    "# 3) 60% CI\n",
    "print(\"Z score for 60% CI is\",scipy.stats.norm.ppf(0.80))"
   ]
  },
  {
   "cell_type": "markdown",
   "id": "4a7c7600",
   "metadata": {},
   "source": [
    "#### Q23 Calculate the t scores of 95% confidence interval, 96% confidence interval, 99% confidence interval for sample size of 25"
   ]
  },
  {
   "cell_type": "code",
   "execution_count": 30,
   "id": "a106462e",
   "metadata": {},
   "outputs": [
    {
     "name": "stdout",
     "output_type": "stream",
     "text": [
      "t score for 95% CI and 25 sample size is 1.7108820799094275\n"
     ]
    }
   ],
   "source": [
    "# For calculating t scores we will use scipy.stats.t.ppf() function\n",
    "# 1) 95% CI\n",
    "print(\"t score for 95% CI and 25 sample size is\",scipy.stats.t.ppf(0.95,24))"
   ]
  },
  {
   "cell_type": "code",
   "execution_count": 31,
   "id": "f6653e90",
   "metadata": {},
   "outputs": [
    {
     "name": "stdout",
     "output_type": "stream",
     "text": [
      "t score for 96% CI and 25 sample size is 1.7108820799094275\n"
     ]
    }
   ],
   "source": [
    "# 2) 96% CI\n",
    "print(\"t score for 96% CI and 25 sample size is\",scipy.stats.t.ppf(0.95,24))"
   ]
  },
  {
   "cell_type": "code",
   "execution_count": 32,
   "id": "86f92ed2",
   "metadata": {},
   "outputs": [
    {
     "name": "stdout",
     "output_type": "stream",
     "text": [
      "t score for 99% CI and 25 sample size is 1.7108820799094275\n"
     ]
    }
   ],
   "source": [
    "# 3) 99% CI\n",
    "print(\"t score for 99% CI and 25 sample size is\",scipy.stats.t.ppf(0.95,24))"
   ]
  },
  {
   "cell_type": "markdown",
   "id": "537de2e2",
   "metadata": {},
   "source": [
    "#### Q24 )   A Government company claims that an average light bulb lasts 270 days. A researcher randomly selects 18 bulbs for testing. The sampled bulbs last an average of 260 days, with a standard deviation of 90 days. If the CEO's claim were true, what is the probability that 18 randomly selected bulbs would have an average life of no more than 260 days?"
   ]
  },
  {
   "cell_type": "markdown",
   "id": "72458462",
   "metadata": {},
   "source": [
    "##### Data Given:\n",
    "- Population mean = 270 days\n",
    "- sample size = 18\n",
    "- sample mean = 260 days\n",
    "- population Standard Deviation = 90 days\n",
    "- Degree of freedom = 18-1 = 17"
   ]
  },
  {
   "cell_type": "code",
   "execution_count": 33,
   "id": "70d09ed1",
   "metadata": {},
   "outputs": [],
   "source": [
    "# Null hypothesis: Average value of bulb is 270 days or more\n",
    "# alternate hypothesis: Average value of bulb is less than 270 days"
   ]
  },
  {
   "cell_type": "code",
   "execution_count": 34,
   "id": "b25ee429",
   "metadata": {},
   "outputs": [
    {
     "data": {
      "text/plain": [
       "-0.4714"
      ]
     },
     "execution_count": 34,
     "metadata": {},
     "output_type": "execute_result"
    }
   ],
   "source": [
    "# population parameter is unknown we should use t-test\n",
    "# First we need to calculate the t value for this sample\n",
    "t_value = round((260-270)/(90/np.sqrt(18)),4)\n",
    "t_value"
   ]
  },
  {
   "cell_type": "code",
   "execution_count": 35,
   "id": "d12c4942",
   "metadata": {},
   "outputs": [
    {
     "data": {
      "text/plain": [
       "0.3217"
      ]
     },
     "execution_count": 35,
     "metadata": {},
     "output_type": "execute_result"
    }
   ],
   "source": [
    "P =round(scipy.stats.t.cdf(-0.4714,17),4)\n",
    "P"
   ]
  },
  {
   "cell_type": "code",
   "execution_count": 36,
   "id": "bafd82d7",
   "metadata": {},
   "outputs": [],
   "source": [
    "# Since P>alpha we failed to reject the null hypothesis."
   ]
  },
  {
   "cell_type": "code",
   "execution_count": 37,
   "id": "ca150f11",
   "metadata": {},
   "outputs": [
    {
     "name": "stdout",
     "output_type": "stream",
     "text": [
      "the probability that 18 randomly selected bulbs would have an average life of no more than 260 days  is 0.6434 or 64.34 %\n"
     ]
    }
   ],
   "source": [
    "# The probability that average life < 260 days is P(t-score<-0.47)\n",
    "P =2*round(scipy.stats.t.cdf(-0.4714,17),4)\n",
    "print(\"the probability that 18 randomly selected bulbs \"\n",
    "      \"would have an average life of no more than 260 days  is\",P,\"or\",P*100,\"%\")"
   ]
  }
 ],
 "metadata": {
  "kernelspec": {
   "display_name": "Python 3 (ipykernel)",
   "language": "python",
   "name": "python3"
  },
  "language_info": {
   "codemirror_mode": {
    "name": "ipython",
    "version": 3
   },
   "file_extension": ".py",
   "mimetype": "text/x-python",
   "name": "python",
   "nbconvert_exporter": "python",
   "pygments_lexer": "ipython3",
   "version": "3.10.9"
  }
 },
 "nbformat": 4,
 "nbformat_minor": 5
}
